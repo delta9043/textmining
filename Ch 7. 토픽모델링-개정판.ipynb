{
 "cells": [
  {
   "cell_type": "markdown",
   "id": "8dda7647",
   "metadata": {},
   "source": [
    "# Chapter 7. 토픽 모델링으로 주제 찾기\n",
    "\n",
    "## 1. 토픽 모델링의 이해\n",
    "\n",
    "1: https://mobile.newsis.com/view.html?ar_id=NISX20190918_0000772783#_enliple\n",
    "2: https://cyram.tistory.com/309"
   ]
  },
  {
   "cell_type": "markdown",
   "id": "8a4346bd",
   "metadata": {},
   "source": [
    "### 1.1 LDA(Latent Dirichlet Allocation)\n",
    "\n"
   ]
  },
  {
   "cell_type": "markdown",
   "id": "fe8c722f",
   "metadata": {},
   "source": [
    "### 1.2 모형의 평가와 적절한 토픽 수의 결정\n"
   ]
  },
  {
   "cell_type": "markdown",
   "id": "6e8fc0c1",
   "metadata": {},
   "source": [
    "## 2. 사이킷런을 이용한 토픽 모델링\n",
    "\n",
    "### 2.1 데이터 준비\n",
    "\n"
   ]
  },
  {
   "cell_type": "code",
   "execution_count": 1,
   "id": "0c9e5481",
   "metadata": {},
   "outputs": [
    {
     "name": "stderr",
     "output_type": "stream",
     "text": [
      "[nltk_data] Downloading package punkt to\n",
      "[nltk_data]     C:\\Users\\delta\\AppData\\Roaming\\nltk_data...\n",
      "[nltk_data]   Package punkt is already up-to-date!\n",
      "[nltk_data] Downloading package webtext to\n",
      "[nltk_data]     C:\\Users\\delta\\AppData\\Roaming\\nltk_data...\n",
      "[nltk_data]   Package webtext is already up-to-date!\n",
      "[nltk_data] Downloading package wordnet to\n",
      "[nltk_data]     C:\\Users\\delta\\AppData\\Roaming\\nltk_data...\n",
      "[nltk_data]   Package wordnet is already up-to-date!\n",
      "[nltk_data] Downloading package stopwords to\n",
      "[nltk_data]     C:\\Users\\delta\\AppData\\Roaming\\nltk_data...\n",
      "[nltk_data]   Package stopwords is already up-to-date!\n",
      "[nltk_data] Downloading package averaged_perceptron_tagger to\n",
      "[nltk_data]     C:\\Users\\delta\\AppData\\Roaming\\nltk_data...\n",
      "[nltk_data]   Package averaged_perceptron_tagger is already up-to-\n",
      "[nltk_data]       date!\n"
     ]
    },
    {
     "data": {
      "text/plain": [
       "True"
      ]
     },
     "execution_count": 1,
     "metadata": {},
     "output_type": "execute_result"
    }
   ],
   "source": [
    "import nltk\n",
    "nltk.download('punkt')\n",
    "nltk.download('webtext')\n",
    "nltk.download('wordnet')\n",
    "nltk.download('stopwords')\n",
    "nltk.download('averaged_perceptron_tagger')"
   ]
  },
  {
   "cell_type": "code",
   "execution_count": 2,
   "id": "0bdc3f72",
   "metadata": {},
   "outputs": [
    {
     "name": "stdout",
     "output_type": "stream",
     "text": [
      "#Train set size: 3219\n",
      "#Selected categories: ['alt.atheism', 'comp.graphics', 'comp.sys.ibm.pc.hardware', 'sci.crypt', 'sci.space', 'talk.religion.misc']\n"
     ]
    }
   ],
   "source": [
    "from sklearn.datasets import fetch_20newsgroups\n",
    "\n",
    "categories = ['alt.atheism', 'talk.religion.misc', 'comp.graphics', 'sci.space', \n",
    "              'comp.sys.ibm.pc.hardware', 'sci.crypt']\n",
    "\n",
    "#학습 데이터셋을 가져옴\n",
    "newsgroups_train = fetch_20newsgroups(subset='train', categories=categories)\n",
    "\n",
    "print('#Train set size:', len(newsgroups_train.data))\n",
    "print('#Selected categories:', newsgroups_train.target_names)"
   ]
  },
  {
   "cell_type": "code",
   "execution_count": 3,
   "id": "d0f7a323",
   "metadata": {},
   "outputs": [],
   "source": [
    "from sklearn.feature_extraction.text import CountVectorizer\n",
    "\n",
    "cv = CountVectorizer(token_pattern=\"[\\\\w']{3,}\", stop_words='english', \n",
    "                     max_features=2000, min_df=5, max_df=0.5)\n",
    "review_cv = cv.fit_transform(newsgroups_train.data) "
   ]
  },
  {
   "cell_type": "markdown",
   "id": "117b78a8",
   "metadata": {},
   "source": [
    "### 2.2 LDA 토픽 모델링 실행\n",
    "\n",
    "\n",
    "1: https://scikit-learn.org/stable/modules/generated/sklearn.decomposition.LatentDirichletAllocation.html <br>\n",
    "2: Griffiths, Thomas L., and Mark Steyvers. \"Finding scientific topics.\" Proceedings of the National academy of Sciences 101.suppl 1 (2004): 5228-5235."
   ]
  },
  {
   "cell_type": "code",
   "execution_count": 4,
   "id": "da26c423",
   "metadata": {},
   "outputs": [
    {
     "name": "stdout",
     "output_type": "stream",
     "text": [
      "#shape of review_topics: (3219, 10)\n",
      "#Sample of review_topics: [0.903 0.007 0.027 0.008 0.007 0.008 0.007 0.007 0.007 0.018]\n",
      "#Sum of topic weights of documents: [0.087 0.083 0.085 0.115 0.115 0.126 0.098 0.072 0.07  0.148]\n",
      "#shape of topic word distribution: (10, 2000)\n"
     ]
    }
   ],
   "source": [
    "from sklearn.decomposition import LatentDirichletAllocation\n",
    "import numpy as np\n",
    "np.set_printoptions(precision=3)\n",
    "\n",
    "lda = LatentDirichletAllocation(n_components = 10, #추출할 topic의 수\n",
    "                                max_iter=5, \n",
    "                                topic_word_prior=0.1, doc_topic_prior=1.0,\n",
    "                                learning_method='online', \n",
    "                                n_jobs= -1, #사용 processor 수\n",
    "                                random_state=0)\n",
    "\n",
    "review_topics = lda.fit_transform(review_cv)\n",
    "print('#shape of review_topics:', review_topics.shape)\n",
    "print('#Sample of review_topics:', review_topics[0])\n",
    "\n",
    "gross_topic_weights = np.mean(review_topics, axis=0)\n",
    "print('#Sum of topic weights of documents:', gross_topic_weights)\n",
    "\n",
    "print('#shape of topic word distribution:', lda.components_.shape)"
   ]
  },
  {
   "cell_type": "code",
   "execution_count": 5,
   "id": "3662b1ae",
   "metadata": {},
   "outputs": [
    {
     "name": "stdout",
     "output_type": "stream",
     "text": [
      "Topic #0: com, morality, keith, article, sgi, think, sandvik, objective, caltech, moral\n",
      "Topic #1: image, file, graphics, files, ftp, available, software, use, data, mail\n",
      "Topic #2: space, nasa, access, launch, earth, orbit, shuttle, digex, lunar, satellite\n",
      "Topic #3: article, com, just, don't, like, i'm, nntp, university, host, posting\n",
      "Topic #4: key, clipper, chip, encryption, com, government, law, keys, use, escrow\n",
      "Topic #5: scsi, com, bit, ibm, bus, know, windows, thanks, card, university\n",
      "Topic #6: host, gov, nntp, posting, university, distribution, nasa, ___, world, com\n",
      "Topic #7: drive, com, disk, hard, controller, drives, dos, tape, floppy, problem\n",
      "Topic #8: key, public, message, faq, mail, pgp, des, group, uni, ripem\n",
      "Topic #9: god, people, don't, jesus, believe, just, does, say, think, know\n",
      "\n"
     ]
    }
   ],
   "source": [
    "def print_top_words(model, feature_names, n_top_words):\n",
    "    for topic_idx, topic in enumerate(model.components_):\n",
    "        print(\"Topic #%d: \" % topic_idx, end='')\n",
    "        print(\", \".join([feature_names[i] for i in topic.argsort()[:-n_top_words - 1:-1]]))\n",
    "        #print(\", \".join([feature_names[i]+'('+str(topic[i])+')' for i in topic.argsort()[:-n_top_words - 1:-1]]))\n",
    "        # 위 slicing에서 맨 뒤 -1은 역순을 의미, 역순으로 했을 때 처음부터 n_top_words까지\n",
    "    print()\n",
    "\n",
    "print_top_words(lda,cv.get_feature_names_out(), 10)"
   ]
  },
  {
   "cell_type": "markdown",
   "id": "b79db881",
   "metadata": {},
   "source": [
    "### 2.3 최적의 토픽 수 선택하기\n"
   ]
  },
  {
   "cell_type": "code",
   "execution_count": 6,
   "id": "967db96b",
   "metadata": {},
   "outputs": [
    {
     "name": "stdout",
     "output_type": "stream",
     "text": [
      "n_components: 6, perplexity: 1058.260\n",
      "n_components: 7, perplexity: 1055.111\n",
      "n_components: 8, perplexity: 1018.328\n",
      "n_components: 9, perplexity: 1017.749\n",
      "n_components: 10, perplexity: 1028.686\n",
      "n_components: 11, perplexity: 1033.398\n",
      "n_components: 12, perplexity: 1032.112\n",
      "n_components: 13, perplexity: 1038.642\n",
      "n_components: 14, perplexity: 1038.627\n",
      "n_components: 15, perplexity: 1044.712\n"
     ]
    },
    {
     "data": {
      "image/png": "[encoded data removed]",
      "text/plain": [
       "<Figure size 640x480 with 1 Axes>"
      ]
     },
     "metadata": {},
     "output_type": "display_data"
    },
    {
     "data": {
      "text/plain": [
       "9"
      ]
     },
     "execution_count": 6,
     "metadata": {},
     "output_type": "execute_result"
    }
   ],
   "source": [
    "import matplotlib.pyplot as plt\n",
    "%matplotlib inline\n",
    "\n",
    "def show_perplexity(cv, start=10, end=30, max_iter=5, topic_word_prior= 0.1, \n",
    "                    doc_topic_prior=1.0):\n",
    "    iter_num = []\n",
    "    per_value = []\n",
    "\n",
    "    for i in range(start, end + 1):\n",
    "        lda = LatentDirichletAllocation(n_components = i, max_iter=max_iter, \n",
    "                                        topic_word_prior= topic_word_prior, \n",
    "                                        doc_topic_prior=doc_topic_prior,\n",
    "                                        learning_method='batch', n_jobs= -1,\n",
    "                                        random_state=7)    \n",
    "        lda.fit(cv)\n",
    "        iter_num.append(i)\n",
    "        pv = lda.perplexity(cv)\n",
    "        per_value.append(pv)\n",
    "        print(f'n_components: {i}, perplexity: {pv:0.3f}')\n",
    "\n",
    "    plt.plot(iter_num, per_value, 'g-')\n",
    "    plt.show()\n",
    "    return start + per_value.index(min(per_value))\n",
    "\n",
    "show_perplexity(review_cv, start=6, end=15)"
   ]
  },
  {
   "cell_type": "code",
   "execution_count": 7,
   "id": "e30ace14",
   "metadata": {},
   "outputs": [
    {
     "name": "stdout",
     "output_type": "stream",
     "text": [
      "Topic #0: image, graphics, available, file, mail, ftp, data, information, files, software\n",
      "Topic #1: posting, nntp, host, com, university, gov, distribution, article, nasa, ___\n",
      "Topic #2: com, keith, article, morality, think, caltech, sgi, don't, objective, posting\n",
      "Topic #3: com, jesus, article, know, god, just, don't, people, good, sandvik\n",
      "Topic #4: people, god, does, don't, think, say, believe, just, like, way\n",
      "Topic #5: drive, scsi, card, com, disk, ide, controller, hard, bus, use\n",
      "Topic #6: space, nasa, access, launch, moon, year, article, digex, just, earth\n",
      "Topic #7: key, encryption, clipper, chip, com, government, keys, use, security, public\n",
      "\n"
     ]
    }
   ],
   "source": [
    "lda = LatentDirichletAllocation(n_components = 8, #추출할 topic의 수를 지정\n",
    "                                max_iter=20, \n",
    "                                topic_word_prior= 0.1, \n",
    "                                doc_topic_prior=1.0,\n",
    "                                learning_method='batch',\n",
    "                                n_jobs= -1, \n",
    "                                random_state=7)\n",
    "\n",
    "review_topics = lda.fit_transform(review_cv)\n",
    "\n",
    "print_top_words(lda, cv.get_feature_names_out(), 10)"
   ]
  },
  {
   "cell_type": "markdown",
   "id": "c521513b",
   "metadata": {},
   "source": [
    "## 3. Gensim을 이용한 토픽 모델링\n"
   ]
  },
  {
   "cell_type": "markdown",
   "id": "47e1acaf",
   "metadata": {},
   "source": [
    "### 3.1 Gensim 사용법과 시각화\n",
    "\n",
    "1: https://radimrehurek.com/gensim/"
   ]
  },
  {
   "cell_type": "code",
   "execution_count": null,
   "id": "e387f2f6",
   "metadata": {},
   "outputs": [
    {
     "name": "stdout",
     "output_type": "stream",
     "text": [
      "Collecting gensim\n",
      "  Downloading gensim-4.3.3-cp312-cp312-win_amd64.whl.metadata (8.2 kB)\n",
      "Requirement already satisfied: numpy<2.0,>=1.18.5 in c:\\users\\delta\\anaconda3\\lib\\site-packages (from gensim) (1.26.4)\n",
      "Collecting scipy<1.14.0,>=1.7.0 (from gensim)\n",
      "  Downloading scipy-1.13.1-cp312-cp312-win_amd64.whl.metadata (60 kB)\n",
      "Collecting smart-open>=1.8.1 (from gensim)\n",
      "  Downloading smart_open-7.1.0-py3-none-any.whl.metadata (24 kB)\n",
      "Collecting wrapt (from smart-open>=1.8.1->gensim)\n",
      "  Downloading wrapt-1.17.2-cp312-cp312-win_amd64.whl.metadata (6.5 kB)\n",
      "Downloading gensim-4.3.3-cp312-cp312-win_amd64.whl (24.0 MB)\n",
      "   ---------------------------------------- 0.0/24.0 MB ? eta -:--:--\n",
      "   - -------------------------------------- 0.8/24.0 MB 4.2 MB/s eta 0:00:06\n",
      "   --- ------------------------------------ 1.8/24.0 MB 4.6 MB/s eta 0:00:05\n",
      "   ---- ----------------------------------- 2.9/24.0 MB 4.7 MB/s eta 0:00:05\n",
      "   ------ --------------------------------- 3.7/24.0 MB 4.6 MB/s eta 0:00:05\n",
      "   ------- -------------------------------- 4.7/24.0 MB 4.6 MB/s eta 0:00:05\n",
      "   --------- ------------------------------ 5.8/24.0 MB 4.6 MB/s eta 0:00:04\n",
      "   ---------- ----------------------------- 6.3/24.0 MB 4.6 MB/s eta 0:00:04\n",
      "   ----------- ---------------------------- 7.1/24.0 MB 4.2 MB/s eta 0:00:04\n",
      "   ------------- -------------------------- 8.1/24.0 MB 4.3 MB/s eta 0:00:04\n",
      "   -------------- ------------------------- 8.9/24.0 MB 4.3 MB/s eta 0:00:04\n",
      "   ---------------- ----------------------- 10.0/24.0 MB 4.4 MB/s eta 0:00:04\n",
      "   ------------------ --------------------- 11.0/24.0 MB 4.4 MB/s eta 0:00:03\n",
      "   -------------------- ------------------- 12.1/24.0 MB 4.4 MB/s eta 0:00:03\n",
      "   --------------------- ------------------ 13.1/24.0 MB 4.4 MB/s eta 0:00:03\n",
      "   ----------------------- ---------------- 14.2/24.0 MB 4.5 MB/s eta 0:00:03\n",
      "   ------------------------ --------------- 14.9/24.0 MB 4.5 MB/s eta 0:00:03\n",
      "   -------------------------- ------------- 16.0/24.0 MB 4.5 MB/s eta 0:00:02\n",
      "   --------------------------- ------------ 16.8/24.0 MB 4.5 MB/s eta 0:00:02\n",
      "   ----------------------------- ---------- 17.6/24.0 MB 4.4 MB/s eta 0:00:02\n",
      "   ------------------------------- -------- 18.6/24.0 MB 4.4 MB/s eta 0:00:02\n",
      "   -------------------------------- ------- 19.7/24.0 MB 4.4 MB/s eta 0:00:01\n",
      "   ---------------------------------- ----- 20.7/24.0 MB 4.4 MB/s eta 0:00:01\n",
      "   ----------------------------------- ---- 21.5/24.0 MB 4.4 MB/s eta 0:00:01\n",
      "   ------------------------------------- -- 22.5/24.0 MB 4.4 MB/s eta 0:00:01\n",
      "   ---------------------------------------  23.6/24.0 MB 4.4 MB/s eta 0:00:01\n",
      "   ---------------------------------------- 24.0/24.0 MB 4.4 MB/s eta 0:00:00\n",
      "Downloading scipy-1.13.1-cp312-cp312-win_amd64.whl (45.9 MB)\n",
      "   ---------------------------------------- 0.0/45.9 MB ? eta -:--:--\n",
      "    --------------------------------------- 0.8/45.9 MB 4.8 MB/s eta 0:00:10\n",
      "    --------------------------------------- 1.0/45.9 MB 5.0 MB/s eta 0:00:09\n",
      "   - -------------------------------------- 2.1/45.9 MB 3.4 MB/s eta 0:00:13\n",
      "   -- ------------------------------------- 3.1/45.9 MB 3.8 MB/s eta 0:00:12\n",
      "   --- ------------------------------------ 3.9/45.9 MB 4.0 MB/s eta 0:00:11\n",
      "   ---- ----------------------------------- 5.0/45.9 MB 4.1 MB/s eta 0:00:11\n",
      "   ----- ---------------------------------- 6.0/45.9 MB 4.2 MB/s eta 0:00:10\n",
      "   ------ --------------------------------- 7.1/45.9 MB 4.2 MB/s eta 0:00:10\n",
      "   ------ --------------------------------- 7.6/45.9 MB 4.0 MB/s eta 0:00:10\n",
      "   ------- -------------------------------- 8.7/45.9 MB 4.1 MB/s eta 0:00:10\n",
      "   -------- ------------------------------- 9.4/45.9 MB 4.2 MB/s eta 0:00:09\n",
      "   --------- ------------------------------ 10.5/45.9 MB 4.2 MB/s eta 0:00:09\n",
      "   ---------- ----------------------------- 11.5/45.9 MB 4.2 MB/s eta 0:00:09\n",
      "   ---------- ----------------------------- 12.6/45.9 MB 4.3 MB/s eta 0:00:08\n",
      "   ----------- ---------------------------- 13.6/45.9 MB 4.3 MB/s eta 0:00:08\n",
      "   ------------ --------------------------- 14.7/45.9 MB 4.3 MB/s eta 0:00:08\n",
      "   ------------- -------------------------- 15.7/45.9 MB 4.4 MB/s eta 0:00:07\n",
      "   -------------- ------------------------- 16.5/45.9 MB 4.4 MB/s eta 0:00:07\n",
      "   --------------- ------------------------ 17.6/45.9 MB 4.4 MB/s eta 0:00:07\n",
      "   ---------------- ----------------------- 18.6/45.9 MB 4.4 MB/s eta 0:00:07\n",
      "   ----------------- ---------------------- 19.7/45.9 MB 4.4 MB/s eta 0:00:06\n",
      "   ------------------ --------------------- 20.7/45.9 MB 4.4 MB/s eta 0:00:06\n",
      "   ------------------ --------------------- 21.5/45.9 MB 4.4 MB/s eta 0:00:06\n",
      "   ------------------- -------------------- 22.5/45.9 MB 4.5 MB/s eta 0:00:06\n",
      "   -------------------- ------------------- 23.6/45.9 MB 4.5 MB/s eta 0:00:06\n",
      "   --------------------- ------------------ 24.6/45.9 MB 4.5 MB/s eta 0:00:05\n",
      "   ---------------------- ----------------- 25.4/45.9 MB 4.4 MB/s eta 0:00:05\n",
      "   ---------------------- ----------------- 26.2/45.9 MB 4.5 MB/s eta 0:00:05\n",
      "   ----------------------- ---------------- 27.3/45.9 MB 4.4 MB/s eta 0:00:05\n",
      "   ------------------------ --------------- 28.3/45.9 MB 4.4 MB/s eta 0:00:04\n",
      "   ------------------------- -------------- 29.1/45.9 MB 4.5 MB/s eta 0:00:04\n",
      "   -------------------------- ------------- 30.1/45.9 MB 4.5 MB/s eta 0:00:04\n",
      "   --------------------------- ------------ 31.5/45.9 MB 4.5 MB/s eta 0:00:04\n",
      "   ---------------------------- ----------- 32.5/45.9 MB 4.5 MB/s eta 0:00:03\n",
      "   ----------------------------- ---------- 33.3/45.9 MB 4.5 MB/s eta 0:00:03\n",
      "   ----------------------------- ---------- 34.3/45.9 MB 4.5 MB/s eta 0:00:03\n",
      "   ------------------------------ --------- 35.1/45.9 MB 4.4 MB/s eta 0:00:03\n",
      "   ------------------------------- -------- 35.9/45.9 MB 4.4 MB/s eta 0:00:03\n",
      "   -------------------------------- ------- 37.0/45.9 MB 4.5 MB/s eta 0:00:03\n",
      "   --------------------------------- ------ 38.0/45.9 MB 4.5 MB/s eta 0:00:02\n",
      "   --------------------------------- ------ 38.8/45.9 MB 4.5 MB/s eta 0:00:02\n",
      "   ---------------------------------- ----- 39.8/45.9 MB 4.5 MB/s eta 0:00:02\n",
      "   ----------------------------------- ---- 40.6/45.9 MB 4.5 MB/s eta 0:00:02\n",
      "   ------------------------------------ --- 41.7/45.9 MB 4.5 MB/s eta 0:00:01\n",
      "   ------------------------------------ --- 42.5/45.9 MB 4.5 MB/s eta 0:00:01\n",
      "   ------------------------------------- -- 43.5/45.9 MB 4.5 MB/s eta 0:00:01\n",
      "   -------------------------------------- - 44.6/45.9 MB 4.5 MB/s eta 0:00:01\n",
      "   ---------------------------------------  45.6/45.9 MB 4.5 MB/s eta 0:00:01\n",
      "   ---------------------------------------- 45.9/45.9 MB 4.4 MB/s eta 0:00:00\n",
      "Downloading smart_open-7.1.0-py3-none-any.whl (61 kB)\n",
      "Downloading wrapt-1.17.2-cp312-cp312-win_amd64.whl (38 kB)\n",
      "Installing collected packages: wrapt, scipy, smart-open, gensim\n",
      "  Attempting uninstall: scipy\n",
      "    Found existing installation: scipy 1.15.2\n",
      "    Uninstalling scipy-1.15.2:\n",
      "      Successfully uninstalled scipy-1.15.2\n",
      "Successfully installed gensim-4.3.3 scipy-1.13.1 smart-open-7.1.0 wrapt-1.17.2\n"
     ]
    }
   ],
   "source": [
    "# !pip install --upgrade gensim"
   ]
  },
  {
   "cell_type": "code",
   "execution_count": null,
   "id": "5efd2068",
   "metadata": {},
   "outputs": [],
   "source": [
    "# 필요한 library들을 import\n",
    "from nltk.corpus import stopwords\n",
    "cachedStopWords = stopwords.words(\"english\")\n",
    "\n",
    "from nltk.tokenize import RegexpTokenizer\n",
    "\n",
    "RegTok = RegexpTokenizer(\"[\\w']{3,}\") # 정규표현식으로 토크나이저를 정의\n",
    "english_stops = set(stopwords.words('english')) #영어 불용어를 가져옴\n",
    "\n",
    "def tokenizer(text):\n",
    "    tokens = RegTok.tokenize(text.lower()) \n",
    "    # stopwords 제외\n",
    "    words = [word for word in tokens if (word not in english_stops) and len(word) > 2]\n",
    "    return words\n",
    "\n",
    "texts = [tokenizer(news) for news in newsgroups_train.data]"
   ]
  },
  {
   "cell_type": "markdown",
   "id": "62b4d816",
   "metadata": {},
   "source": [
    "1: https://radimrehurek.com/gensim/corpora/dictionary.html"
   ]
  },
  {
   "cell_type": "code",
   "execution_count": null,
   "id": "990c82b5",
   "metadata": {},
   "outputs": [],
   "source": [
    "from gensim.corpora.dictionary import Dictionary\n",
    "\n",
    "# 토큰화 결과로부터 dictionay 생성\n",
    "dictionary = Dictionary(texts)\n",
    "print('#Number of initial unique words in documents:', len(dictionary))\n",
    "\n",
    "# 문서 빈도수가 너무 적거나 높은 단어를 필터링하고 특성을 단어의 빈도 순으로 선택\n",
    "dictionary.filter_extremes(keep_n = 2000, no_below=5, no_above=0.5)\n",
    "print('#Number of unique words after removing rare and common words:', len(dictionary))\n",
    "\n",
    "# 카운트 벡터로 변환\n",
    "corpus = [dictionary.doc2bow(text) for text in texts]\n",
    "print('#Number of unique tokens: %d' % len(dictionary))\n",
    "print('#Number of documents: %d' % len(corpus))"
   ]
  },
  {
   "cell_type": "markdown",
   "id": "2eeccb3b",
   "metadata": {},
   "source": [
    "1: https://radimrehurek.com/gensim/models/ldamodel.html "
   ]
  },
  {
   "cell_type": "code",
   "execution_count": null,
   "id": "0a0b12a5",
   "metadata": {},
   "outputs": [],
   "source": [
    "from gensim.models import LdaModel\n",
    "\n",
    "num_topics = 10\n",
    "passes = 5\n",
    "%time model = LdaModel(corpus=corpus, id2word=dictionary,\\\n",
    "                       passes=passes, num_topics=num_topics, \\\n",
    "                       random_state=7)"
   ]
  },
  {
   "cell_type": "code",
   "execution_count": null,
   "id": "c01b0331",
   "metadata": {},
   "outputs": [],
   "source": [
    "model.print_topics(num_words=10)"
   ]
  },
  {
   "cell_type": "code",
   "execution_count": null,
   "id": "3c612bb6",
   "metadata": {},
   "outputs": [],
   "source": [
    "print(\"#topic distribution of the first document: \", model.get_document_topics(corpus)[0])"
   ]
  },
  {
   "cell_type": "code",
   "execution_count": null,
   "id": "0738da55",
   "metadata": {},
   "outputs": [],
   "source": [
    "#!pip install pyldavis"
   ]
  },
  {
   "cell_type": "code",
   "execution_count": null,
   "id": "f91053c8",
   "metadata": {
    "scrolled": false
   },
   "outputs": [],
   "source": [
    "import pyLDAvis\n",
    "import pyLDAvis.gensim_models as gensimvis\n",
    "pyLDAvis.enable_notebook()\n",
    "\n",
    "# feed the LDA model into the pyLDAvis instance\n",
    "lda_viz = gensimvis.prepare(model, corpus, dictionary)\n",
    "lda_viz"
   ]
  },
  {
   "cell_type": "markdown",
   "id": "5b25285f",
   "metadata": {},
   "source": [
    "### 3.2 혼란도와 토픽 응집도를 이용한 최적값 선택\n",
    "\n",
    "https://radimrehurek.com/gensim/models/coherencemodel.html"
   ]
  },
  {
   "cell_type": "code",
   "execution_count": null,
   "id": "7a6d982d",
   "metadata": {},
   "outputs": [],
   "source": [
    "from gensim.models import CoherenceModel\n",
    "\n",
    "cm = CoherenceModel(model=model, corpus=corpus, coherence='u_mass')\n",
    "coherence = cm.get_coherence()\n",
    "print(coherence)"
   ]
  },
  {
   "cell_type": "code",
   "execution_count": null,
   "id": "748ab7e4",
   "metadata": {},
   "outputs": [],
   "source": [
    "def show_coherence(corpus, dictionary, start=6, end=15):\n",
    "    iter_num = []\n",
    "    per_value = []\n",
    "    coh_value = []\n",
    "\n",
    "    for i in range(start, end + 1):\n",
    "        model = LdaModel(corpus=corpus, id2word=dictionary,\n",
    "                 chunksize=1000, num_topics=i,\n",
    "                 random_state=7)\n",
    "        iter_num.append(i)\n",
    "        pv = model.log_perplexity(corpus)\n",
    "        per_value.append(pv)\n",
    "        \n",
    "        cm = CoherenceModel(model=model, corpus=corpus, \n",
    "                            coherence='u_mass')\n",
    "        cv = cm.get_coherence()\n",
    "        coh_value.append(cv)\n",
    "        print(f'num_topics: {i}, perplexity: {pv:0.3f}, coherence: {cv:0.3f}')\n",
    "\n",
    "    plt.plot(iter_num, per_value, 'g-')\n",
    "    plt.xlabel(\"num_topics\")\n",
    "    plt.ylabel(\"perplexity\")\n",
    "    plt.show()\n",
    "\n",
    "    plt.plot(iter_num, coh_value, 'r--')\n",
    "    plt.xlabel(\"num_topics\")\n",
    "    plt.ylabel(\"coherence\")\n",
    "    plt.show()\n",
    "\n",
    "show_coherence(corpus, dictionary, start=6, end=15)"
   ]
  },
  {
   "cell_type": "markdown",
   "id": "40a66a0f",
   "metadata": {},
   "source": [
    "## 4. 토픽트렌드로 시간에 따른 주제의 변화 알아내기"
   ]
  },
  {
   "cell_type": "markdown",
   "id": "5bb896d4",
   "metadata": {},
   "source": [
    "1: https://github.com/akngs/petitions"
   ]
  },
  {
   "cell_type": "code",
   "execution_count": null,
   "id": "f7f16a98",
   "metadata": {},
   "outputs": [],
   "source": [
    "import pandas as pd\n",
    "\n",
    "df = pd.read_csv(\"./data/petition_sampled.csv\") #read data\n",
    "df.head(1)"
   ]
  },
  {
   "cell_type": "code",
   "execution_count": null,
   "id": "3701321d",
   "metadata": {},
   "outputs": [],
   "source": [
    "from sklearn.feature_extraction.text import CountVectorizer\n",
    "from konlpy.tag import Okt #konlpy에서 Twitter 형태소 분석기를 import\n",
    "twit = Okt()\n",
    "\n",
    "def tokenizer(doc):\n",
    "    return [token for token in twit.nouns(doc) if len(token) > 1]\n",
    "\n",
    "vec = CountVectorizer(tokenizer=tokenizer, #우선은 명사만 사용\n",
    "                      max_df=0.5, min_df = 5, \n",
    "                      max_features = 1000) #적당한 대상 단어 수를 선택\n",
    "\n",
    "pet_cv = vec.fit_transform(df.content)\n",
    "print(pet_cv.shape)"
   ]
  },
  {
   "cell_type": "code",
   "execution_count": null,
   "id": "d0e148bd",
   "metadata": {},
   "outputs": [],
   "source": [
    "from sklearn.decomposition import LatentDirichletAllocation\n",
    "\n",
    "lda = LatentDirichletAllocation(n_components = 15, \\\n",
    "                                n_jobs= -1, \\\n",
    "                                random_state=0)\n",
    "\n",
    "%time pet_topics = lda.fit_transform(pet_cv)\n",
    "\n",
    "def print_top_words(model, feature_names, n_top_words):\n",
    "    for topic_idx, topic in enumerate(model.components_):\n",
    "        print(\"Topic #%d: \" % topic_idx, end='')\n",
    "        print(\", \".join([feature_names[i] \n",
    "                         for i in topic.argsort()[:-n_top_words - 1:-1]]))\n",
    "print_top_words(lda,vec.get_feature_names(), 10)"
   ]
  },
  {
   "cell_type": "code",
   "execution_count": null,
   "id": "dae03049",
   "metadata": {},
   "outputs": [],
   "source": [
    "trend_data = pd.DataFrame(pet_topics, columns=['Topic'+str(i) for i in range(1, 16)])\n",
    "trend_data = pd.concat([trend_data, df.start.map(lambda x: x[:7])], axis=1)\n",
    "trend_data.iloc[:5, -5:]"
   ]
  },
  {
   "cell_type": "code",
   "execution_count": null,
   "id": "fa9a487f",
   "metadata": {},
   "outputs": [],
   "source": [
    "trend = trend_data.groupby(['start']).mean()\n",
    "trend.iloc[:5, -5:]"
   ]
  },
  {
   "cell_type": "code",
   "execution_count": null,
   "id": "f4919c1f",
   "metadata": {
    "scrolled": true
   },
   "outputs": [],
   "source": [
    "import matplotlib\n",
    "import matplotlib.pyplot as plt\n",
    "%matplotlib inline\n",
    "\n",
    "fig, axes = plt.subplots(5, 3, sharex='col', figsize=(12, 16)) \n",
    "for col, ax in zip(trend.columns.tolist(), axes.ravel()): \n",
    "    ax.set_title(col)\n",
    "    ax.axes.xaxis.set_visible(False)\n",
    "    ax.plot(trend[col])\n",
    "plt.show()"
   ]
  },
  {
   "cell_type": "markdown",
   "id": "fe57a593",
   "metadata": {},
   "source": [
    "## 5. 동적 토픽 모델링(Dynamic Topic Modeling)"
   ]
  },
  {
   "cell_type": "code",
   "execution_count": null,
   "id": "101bc487",
   "metadata": {},
   "outputs": [],
   "source": [
    "import pandas as pd\n",
    "\n",
    "df = pd.read_csv(\"./data/petition_sampled.csv\") \n",
    "df_sorted = df.sort_values(by='start') # 문서를 시작날짜 순으로 정렬\n",
    "\n",
    "# time slice를 생성. 월별로 변화를 보기 위해 연도와 월만 추출하여 time 열 생성\n",
    "df_sorted['time'] = df_sorted['start'].map(lambda x: x[:7])\n",
    "\n",
    "# 각 월별로 문서가 몇건인지를 계산하여 time_slice에 저장\n",
    "time_slice = list(df_sorted['time'].value_counts().sort_index())\n",
    "print(time_slice, sum(time_slice))"
   ]
  },
  {
   "cell_type": "code",
   "execution_count": null,
   "id": "5427c9a4",
   "metadata": {},
   "outputs": [],
   "source": [
    "# 시간 구간을 리스트로 작성\n",
    "time_tag = sorted(list(set(df_sorted['time'])))\n",
    "print(time_tag)"
   ]
  },
  {
   "cell_type": "code",
   "execution_count": null,
   "id": "650aab0d",
   "metadata": {},
   "outputs": [],
   "source": [
    "from gensim.corpora.dictionary import Dictionary\n",
    "from konlpy.tag import Okt #konlpy에서 Twitter 형태소 분석기를 import\n",
    "twit = Okt()\n",
    "\n",
    "def tokenizer(doc): #명사만 사용\n",
    "    return [token for token in twit.nouns(doc) if len(token) > 1]\n",
    "\n",
    "#청원데이터의 텍스트를 토큰화\n",
    "texts = [tokenizer(news) for news in df_sorted['content']]\n",
    "\n",
    "# 토큰화 결과로부터 dictionay 생성\n",
    "dictionary = Dictionary(texts) \n",
    "print('#Number of initial unique words in documents:', len(dictionary))\n",
    "\n",
    "# 문서 빈도수가 너무 적거나 높은 단어를 필터링하고 특성을 단어의 빈도 순으로 선택\n",
    "dictionary.filter_extremes(keep_n = 2000, no_below=5, no_above=0.5)\n",
    "print('#Number of unique words after removing rare and common words:', len(dictionary))\n",
    "\n",
    "# 카운트 벡터로 변환\n",
    "corpus = [dictionary.doc2bow(text) for text in texts]\n",
    "print('#Number of unique tokens: %d' % len(dictionary))\n",
    "print('#Number of documents: %d' % len(corpus))"
   ]
  },
  {
   "cell_type": "code",
   "execution_count": null,
   "id": "c93b62a0",
   "metadata": {
    "scrolled": true
   },
   "outputs": [],
   "source": [
    "# 적절한 토픽의 수를 알아보기 위해 토픽수를 바꿔가면서 log_perplexity와 coherence를 계산\n",
    "from gensim.models import CoherenceModel\n",
    "\n",
    "coherence = cm.get_coherence()\n",
    "show_coherence(corpus, dictionary, start=6, end=15)"
   ]
  },
  {
   "cell_type": "code",
   "execution_count": null,
   "id": "f4005583",
   "metadata": {
    "scrolled": false
   },
   "outputs": [],
   "source": [
    "# LdaSeqModel를 실행\n",
    "from gensim.models import LdaSeqModel\n",
    "import warnings\n",
    "warnings.filterwarnings(\"ignore\")\n",
    "\n",
    "#시간이 많이 소요됨\n",
    "ldaseq = LdaSeqModel(corpus=corpus, id2word=dictionary, time_slice=time_slice, num_topics=6, random_state=7)"
   ]
  },
  {
   "cell_type": "code",
   "execution_count": null,
   "id": "52183ed2",
   "metadata": {},
   "outputs": [],
   "source": [
    "# 토픽결과로부터 상위 n개의 단어만 반환하는 함수 작성\n",
    "def get_topic_words(topic, top_n_words=10):\n",
    "    words, _ = zip(*topic)\n",
    "    return words[:top_n_words]\n",
    "\n",
    "# 주어진 토픽에 대해 시간별로 상위단어를 간략하게 출력하는 함수 작성\n",
    "def print_topic_times(model, topic, time_tag, top_n_words=10):\n",
    "    topic_times = model.print_topic_times(topic)\n",
    "    for i in range(len(topic_times)):\n",
    "        print(time_tag[i]+':', get_topic_words(topic_times[i], top_n_words))"
   ]
  },
  {
   "cell_type": "code",
   "execution_count": null,
   "id": "70699a52",
   "metadata": {},
   "outputs": [],
   "source": [
    "# 4번 토픽에 대해 시간 별로 상위 8개의 단어를 출력\n",
    "print_topic_times(ldaseq, 4, time_tag, 8)"
   ]
  },
  {
   "cell_type": "code",
   "execution_count": null,
   "id": "6ff708b0",
   "metadata": {},
   "outputs": [],
   "source": [
    "# 구간별로 문서 토픽 분포의 평균을 구하여 토픽의 트렌드로 사용\n",
    "def get_topic_trends(model, corpus, time_slice):\n",
    "    dtm = model.dtm_vis(0, corpus) #dtm_vis 메서드를 이용해 문서별 토픽분포를 가져옴\n",
    "    result = []\n",
    "    start = 0\n",
    "    for index in time_slice: # 각 구간별 문서들에 대해 토픽분포의 평균을 구함\n",
    "        result.append(np.array(dtm[0][start:start+index]).mean(axis=0))\n",
    "        start += index\n",
    "    return np.array(result)\n",
    "topic_trends = get_topic_trends(ldaseq, corpus, time_slice)"
   ]
  },
  {
   "cell_type": "code",
   "execution_count": null,
   "id": "29ad388f",
   "metadata": {},
   "outputs": [],
   "source": [
    "import matplotlib\n",
    "import matplotlib.pyplot as plt\n",
    "%matplotlib inline\n",
    "\n",
    "topic_titles = ['Topic '+str(i) for i in range(6)] # 토픽 타이틀 생성\n",
    "fig, axes = plt.subplots(2, 3, sharex='col', figsize=(12, 6)) \n",
    "for i, (title, ax) in enumerate(zip(topic_titles, axes.ravel())): \n",
    "    ax.set_title(title)\n",
    "    ax.set_xticks([0, 5, 10, 15])\n",
    "    ax.set_xticklabels(time_tag[::5])\n",
    "    ax.plot(topic_trends[:, i])\n",
    "plt.savefig('dtm.png')\n",
    "plt.show()"
   ]
  },
  {
   "cell_type": "code",
   "execution_count": null,
   "id": "d314b12c",
   "metadata": {},
   "outputs": [],
   "source": [
    "import pyLDAvis\n",
    "pyLDAvis.enable_notebook()\n",
    "\n",
    "# 특정 time slice의 토픽분포를 시각화 - ldaseq.dtm_vis() 메서드를 이용\n",
    "doc_topic, topic_term, doc_lengths, term_frequency, vocab = ldaseq.dtm_vis(time=0, corpus=corpus)\n",
    "vis_dtm = pyLDAvis.prepare(topic_term_dists=topic_term, doc_topic_dists=doc_topic, doc_lengths=doc_lengths, vocab=vocab, term_frequency=term_frequency)\n",
    "pyLDAvis.display(vis_dtm) #결과를 출력\n",
    "#pyLDAvis.save_html(vis_dtm, 'lda_time0.html')) #결과를 별도의 html 파일로 저장"
   ]
  },
  {
   "cell_type": "code",
   "execution_count": null,
   "id": "edcdad9d",
   "metadata": {},
   "outputs": [],
   "source": [
    "doc_topic, topic_term, doc_lengths, term_frequency, vocab = ldaseq.dtm_vis(time=1, corpus=corpus)\n",
    "vis_dtm = pyLDAvis.prepare(topic_term_dists=topic_term, doc_topic_dists=doc_topic, doc_lengths=doc_lengths, vocab=vocab, term_frequency=term_frequency)\n",
    "pyLDAvis.display(vis_dtm)\n",
    "#pyLDAvis.save_html(vis_dtm, 'lda_time1.html')"
   ]
  },
  {
   "cell_type": "code",
   "execution_count": null,
   "id": "44e3a97d",
   "metadata": {},
   "outputs": [],
   "source": []
  }
 ],
 "metadata": {
  "kernelspec": {
   "display_name": "base",
   "language": "python",
   "name": "python3"
  },
  "language_info": {
   "codemirror_mode": {
    "name": "ipython",
    "version": 3
   },
   "file_extension": ".py",
   "mimetype": "text/x-python",
   "name": "python",
   "nbconvert_exporter": "python",
   "pygments_lexer": "ipython3",
   "version": "3.12.7"
  },
  "toc": {
   "base_numbering": 1,
   "nav_menu": {},
   "number_sections": true,
   "sideBar": true,
   "skip_h1_title": false,
   "title_cell": "Table of Contents",
   "title_sidebar": "Contents",
   "toc_cell": true,
   "toc_position": {
    "height": "calc(100% - 180px)",
    "left": "10px",
    "top": "150px",
    "width": "165px"
   },
   "toc_section_display": true,
   "toc_window_display": true
  },
  "varInspector": {
   "cols": {
    "lenName": 16,
    "lenType": 16,
    "lenVar": 40
   },
   "kernels_config": {
    "python": {
     "delete_cmd_postfix": "",
     "delete_cmd_prefix": "del ",
     "library": "var_list.py",
     "varRefreshCmd": "print(var_dic_list())"
    },
    "r": {
     "delete_cmd_postfix": ") ",
     "delete_cmd_prefix": "rm(",
     "library": "var_list.r",
     "varRefreshCmd": "cat(var_dic_list()) "
    }
   },
   "types_to_exclude": [
    "module",
    "function",
    "builtin_function_or_method",
    "instance",
    "_Feature"
   ],
   "window_display": false
  }
 },
 "nbformat": 4,
 "nbformat_minor": 5
}
